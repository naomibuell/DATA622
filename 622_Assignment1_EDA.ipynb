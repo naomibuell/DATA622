{
 "cells": [
  {
   "cell_type": "markdown",
   "id": "b03adb2a",
   "metadata": {},
   "source": [
    "# Exploratory Data Analysis (EDA) and essay\n",
    "\n",
    "## ***Introduction***\n",
    "\n",
    "*This assignment focuses on one of the most important aspects of data science, Exploratory Data Analysis (EDA). Many surveys show that data scientists spend 60-80% of their time on data preparation. EDA allows you to identify data gaps & data imbalances, improve data quality, create better features and gain a deep understanding of your data before doing model training - and that ultimately helps train better models. In machine learning, there is a saying - \"better data beats better algorithms\" - meaning that it is more productive to spend time improving data quality than improving the code to train the model.*\n",
    "\n",
    "*This will be an exploratory exercise, so feel free to show errors and warnings that arise during the analysis.*\n",
    "\n",
    "## ***Dataset***\n",
    "\n",
    "*A Portuguese bank conducted a marketing campaign (phone calls) to predict if a client will subscribe to a term deposit. The records of their efforts are available in the form of a dataset. The objective here is to apply machine learning techniques to analyze the dataset and figure out most effective tactics that will help the bank in next campaign to persuade more customers to subscribe to the bank's term deposit. Download the Bank Marketing Dataset from: https://archive.ics.uci.edu/dataset/222/bank+marketing*\n",
    "\n",
    "## ***Assignment***\n",
    "\n",
    "1. ***Exploratory Data Analysis***\n",
    "\n",
    "    *Review the structure and content of the data and answer questions such as:*\n",
    "    - Are the features (columns) of your data correlated?*\n",
    "    - What is the overall distribution of each variable?\n",
    "    - Are there any outliers present?\n",
    "    - What are the relationships between different variables?\n",
    "    - How are categorical variables distributed?\n",
    "    - Do any patterns or trends emerge in the data?\n",
    "    - What is the central tendency and spread of each variable?\n",
    "    - Are there any missing values and how significant are they? *\n",
    "\n",
    "2. ***Algorithm Selection***\n",
    "\n",
    "    *Now you have completed the EDA, what Algorithms would suit the business purpose for the dataset. Answer questions such as:*\n",
    "    - Select two or more machine learning algorithms presented so far that could be used to train a model (no need to train models - I am only looking for your recommendations).\n",
    "    - What are the pros and cons of each algorithm you selected?\n",
    "    - Which algorithm would you recommend, and why?\n",
    "    - Are there labels in your data? Did that impact your choice of algorithm?\n",
    "    - How does your choice of algorithm relates to the dataset?\n",
    "    - Would your choice of algorithm change if there were fewer than 1,000 data records, and why? \n",
    "\n",
    "3. ***Pre-processing***\n",
    "\n",
    "    *Now you have done an EDA and selected an Algorithm, what pre-processing (if any) would you require for:*\n",
    "    - Data Cleaning - improve data quality, address missing data, etc.\n",
    "    - Dimensionality Reduction - remove correlated/redundant data than will slow down training\n",
    "    - Feature Engineering - use of business knowledge to create new features\n",
    "    - Sampling Data - using sampling to resize datasets\n",
    "    - Data Transformation - regularization, normalization, handling categorical variables\n",
    "    - Imbalanced Data - reducing the imbalance between classes"
   ]
  },
  {
   "cell_type": "markdown",
   "id": "2e15844b",
   "metadata": {},
   "source": []
  },
  {
   "cell_type": "code",
   "execution_count": null,
   "id": "534c148e",
   "metadata": {},
   "outputs": [],
   "source": []
  }
 ],
 "metadata": {
  "language_info": {
   "name": "python"
  }
 },
 "nbformat": 4,
 "nbformat_minor": 5
}
