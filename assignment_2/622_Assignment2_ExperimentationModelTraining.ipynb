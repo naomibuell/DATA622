{
 "cells": [
  {
   "cell_type": "markdown",
   "id": "b03adb2a",
   "metadata": {},
   "source": [
    "# Assignment 2: Experimentation & Model Training\n",
    "Authors: Naomi Buell and Richie Rivera\n",
    "\n",
    "*Assignment*\n",
    "\n",
    "*This assignment consists of conducting at least two (2) experiments for different algorithms: Decision Trees, Random Forest and Adaboost. That is, at least six (6) experiments in total (3 algorithms x 2 experiments each). For each experiment you will define what you are trying to achieve (before each run), conduct the experiment, and at the end you will review how your experiment went. These experiments will allow you to compare algorithms and choose the optimal model.*\n",
    "\n",
    "*Using the dataset and EDA from the previous assignment, perform the following:*\n",
    "\n",
    "1. *Algorithm Selection:*\n",
    "*You will perform experiments using the following algorithms:*\n",
    "- *Decision Trees*\n",
    "- *Random Forest*\n",
    "- *Adaboost*\n",
    "\n",
    "2. *Experiment:*\n",
    "*For each of the algorithms (above), perform at least two (2) experiments. In a typical experiment you should:*\n",
    "- *Define the objective of the experiment (hypothesis)*\n",
    "- *Decide what will change, and what will stay the same*\n",
    "- *Select the evaluation metric (what you want to measure)*\n",
    "- *Perform the experiment*\n",
    "- *Document the experiment so you compare results (track progress)*\n",
    "\n",
    "3. *Variations:*\n",
    "*There are many things you can vary between experiments, here are some examples:*\n",
    "\n",
    "- *Data sampling  (feature selection)*\n",
    "- *Data augmentation e.g., regularization, normalization, scaling*\n",
    "- *Hyperparameter optimization (you decide, random search, grid search, etc.)*\n",
    "- *Decision Tree breadth & depth (this is an example of a hyperparameter)*\n",
    "- *Evaluation metrics e.g., Accuracy, precision, recall, F1-score, AUC-ROC*\n",
    "- *Cross-validation strategy e.g., holdout, k-fold, leave-one-out*\n",
    "- *Number of trees (for ensemble models)*\n",
    "- *Train-test split: Using different data splits to assess model generalization ability*"
   ]
  },
  {
   "cell_type": "markdown",
   "id": "f4d76f51",
   "metadata": {},
   "source": [
    "## EDA Recap\n",
    "\n",
    "### Load Libraries and Dataset\n",
    "\n",
    "First, we import libraries and load the Portuguese banking dataset."
   ]
  },
  {
   "cell_type": "code",
   "execution_count": null,
   "id": "6fc549ca",
   "metadata": {},
   "outputs": [],
   "source": [
    "# Load libraries\n",
    "import pandas as pd\n",
    "import matplotlib.pyplot as plt\n",
    "from sklearn.model_selection import train_test_split\n",
    "from sklearn.tree import DecisionTreeClassifier\n",
    "from sklearn import tree\n",
    "import numpy as np\n",
    "import zipfile\n",
    "import io\n",
    "import requests"
   ]
  },
  {
   "cell_type": "code",
   "execution_count": null,
   "id": "adb5f65f",
   "metadata": {},
   "outputs": [
    {
     "data": {
      "application/vnd.microsoft.datawrangler.viewer.v0+json": {
       "columns": [
        {
         "name": "index",
         "rawType": "int64",
         "type": "integer"
        },
        {
         "name": "age",
         "rawType": "int64",
         "type": "integer"
        },
        {
         "name": "job",
         "rawType": "object",
         "type": "string"
        },
        {
         "name": "marital",
         "rawType": "object",
         "type": "string"
        },
        {
         "name": "education",
         "rawType": "object",
         "type": "string"
        },
        {
         "name": "default",
         "rawType": "object",
         "type": "string"
        },
        {
         "name": "housing",
         "rawType": "object",
         "type": "string"
        },
        {
         "name": "loan",
         "rawType": "object",
         "type": "string"
        },
        {
         "name": "contact",
         "rawType": "object",
         "type": "string"
        },
        {
         "name": "month",
         "rawType": "object",
         "type": "string"
        },
        {
         "name": "day_of_week",
         "rawType": "object",
         "type": "string"
        },
        {
         "name": "duration",
         "rawType": "int64",
         "type": "integer"
        },
        {
         "name": "campaign",
         "rawType": "int64",
         "type": "integer"
        },
        {
         "name": "pdays",
         "rawType": "int64",
         "type": "integer"
        },
        {
         "name": "previous",
         "rawType": "int64",
         "type": "integer"
        },
        {
         "name": "poutcome",
         "rawType": "object",
         "type": "string"
        },
        {
         "name": "emp.var.rate",
         "rawType": "float64",
         "type": "float"
        },
        {
         "name": "cons.price.idx",
         "rawType": "float64",
         "type": "float"
        },
        {
         "name": "cons.conf.idx",
         "rawType": "float64",
         "type": "float"
        },
        {
         "name": "euribor3m",
         "rawType": "float64",
         "type": "float"
        },
        {
         "name": "nr.employed",
         "rawType": "float64",
         "type": "float"
        },
        {
         "name": "y",
         "rawType": "object",
         "type": "string"
        }
       ],
       "ref": "49d487ee-19c5-4fec-a7ba-384745c0b96a",
       "rows": [
        [
         "0",
         "56",
         "housemaid",
         "married",
         "basic.4y",
         "no",
         "no",
         "no",
         "telephone",
         "may",
         "mon",
         "261",
         "1",
         "999",
         "0",
         "nonexistent",
         "1.1",
         "93.994",
         "-36.4",
         "4.857",
         "5191.0",
         "no"
        ],
        [
         "1",
         "57",
         "services",
         "married",
         "high.school",
         "unknown",
         "no",
         "no",
         "telephone",
         "may",
         "mon",
         "149",
         "1",
         "999",
         "0",
         "nonexistent",
         "1.1",
         "93.994",
         "-36.4",
         "4.857",
         "5191.0",
         "no"
        ],
        [
         "2",
         "37",
         "services",
         "married",
         "high.school",
         "no",
         "yes",
         "no",
         "telephone",
         "may",
         "mon",
         "226",
         "1",
         "999",
         "0",
         "nonexistent",
         "1.1",
         "93.994",
         "-36.4",
         "4.857",
         "5191.0",
         "no"
        ],
        [
         "3",
         "40",
         "admin.",
         "married",
         "basic.6y",
         "no",
         "no",
         "no",
         "telephone",
         "may",
         "mon",
         "151",
         "1",
         "999",
         "0",
         "nonexistent",
         "1.1",
         "93.994",
         "-36.4",
         "4.857",
         "5191.0",
         "no"
        ],
        [
         "4",
         "56",
         "services",
         "married",
         "high.school",
         "no",
         "no",
         "yes",
         "telephone",
         "may",
         "mon",
         "307",
         "1",
         "999",
         "0",
         "nonexistent",
         "1.1",
         "93.994",
         "-36.4",
         "4.857",
         "5191.0",
         "no"
        ]
       ],
       "shape": {
        "columns": 21,
        "rows": 5
       }
      },
      "text/html": [
       "<div>\n",
       "<style scoped>\n",
       "    .dataframe tbody tr th:only-of-type {\n",
       "        vertical-align: middle;\n",
       "    }\n",
       "\n",
       "    .dataframe tbody tr th {\n",
       "        vertical-align: top;\n",
       "    }\n",
       "\n",
       "    .dataframe thead th {\n",
       "        text-align: right;\n",
       "    }\n",
       "</style>\n",
       "<table border=\"1\" class=\"dataframe\">\n",
       "  <thead>\n",
       "    <tr style=\"text-align: right;\">\n",
       "      <th></th>\n",
       "      <th>age</th>\n",
       "      <th>job</th>\n",
       "      <th>marital</th>\n",
       "      <th>education</th>\n",
       "      <th>default</th>\n",
       "      <th>housing</th>\n",
       "      <th>loan</th>\n",
       "      <th>contact</th>\n",
       "      <th>month</th>\n",
       "      <th>day_of_week</th>\n",
       "      <th>...</th>\n",
       "      <th>campaign</th>\n",
       "      <th>pdays</th>\n",
       "      <th>previous</th>\n",
       "      <th>poutcome</th>\n",
       "      <th>emp.var.rate</th>\n",
       "      <th>cons.price.idx</th>\n",
       "      <th>cons.conf.idx</th>\n",
       "      <th>euribor3m</th>\n",
       "      <th>nr.employed</th>\n",
       "      <th>y</th>\n",
       "    </tr>\n",
       "  </thead>\n",
       "  <tbody>\n",
       "    <tr>\n",
       "      <th>0</th>\n",
       "      <td>56</td>\n",
       "      <td>housemaid</td>\n",
       "      <td>married</td>\n",
       "      <td>basic.4y</td>\n",
       "      <td>no</td>\n",
       "      <td>no</td>\n",
       "      <td>no</td>\n",
       "      <td>telephone</td>\n",
       "      <td>may</td>\n",
       "      <td>mon</td>\n",
       "      <td>...</td>\n",
       "      <td>1</td>\n",
       "      <td>999</td>\n",
       "      <td>0</td>\n",
       "      <td>nonexistent</td>\n",
       "      <td>1.1</td>\n",
       "      <td>93.994</td>\n",
       "      <td>-36.4</td>\n",
       "      <td>4.857</td>\n",
       "      <td>5191.0</td>\n",
       "      <td>no</td>\n",
       "    </tr>\n",
       "    <tr>\n",
       "      <th>1</th>\n",
       "      <td>57</td>\n",
       "      <td>services</td>\n",
       "      <td>married</td>\n",
       "      <td>high.school</td>\n",
       "      <td>unknown</td>\n",
       "      <td>no</td>\n",
       "      <td>no</td>\n",
       "      <td>telephone</td>\n",
       "      <td>may</td>\n",
       "      <td>mon</td>\n",
       "      <td>...</td>\n",
       "      <td>1</td>\n",
       "      <td>999</td>\n",
       "      <td>0</td>\n",
       "      <td>nonexistent</td>\n",
       "      <td>1.1</td>\n",
       "      <td>93.994</td>\n",
       "      <td>-36.4</td>\n",
       "      <td>4.857</td>\n",
       "      <td>5191.0</td>\n",
       "      <td>no</td>\n",
       "    </tr>\n",
       "    <tr>\n",
       "      <th>2</th>\n",
       "      <td>37</td>\n",
       "      <td>services</td>\n",
       "      <td>married</td>\n",
       "      <td>high.school</td>\n",
       "      <td>no</td>\n",
       "      <td>yes</td>\n",
       "      <td>no</td>\n",
       "      <td>telephone</td>\n",
       "      <td>may</td>\n",
       "      <td>mon</td>\n",
       "      <td>...</td>\n",
       "      <td>1</td>\n",
       "      <td>999</td>\n",
       "      <td>0</td>\n",
       "      <td>nonexistent</td>\n",
       "      <td>1.1</td>\n",
       "      <td>93.994</td>\n",
       "      <td>-36.4</td>\n",
       "      <td>4.857</td>\n",
       "      <td>5191.0</td>\n",
       "      <td>no</td>\n",
       "    </tr>\n",
       "    <tr>\n",
       "      <th>3</th>\n",
       "      <td>40</td>\n",
       "      <td>admin.</td>\n",
       "      <td>married</td>\n",
       "      <td>basic.6y</td>\n",
       "      <td>no</td>\n",
       "      <td>no</td>\n",
       "      <td>no</td>\n",
       "      <td>telephone</td>\n",
       "      <td>may</td>\n",
       "      <td>mon</td>\n",
       "      <td>...</td>\n",
       "      <td>1</td>\n",
       "      <td>999</td>\n",
       "      <td>0</td>\n",
       "      <td>nonexistent</td>\n",
       "      <td>1.1</td>\n",
       "      <td>93.994</td>\n",
       "      <td>-36.4</td>\n",
       "      <td>4.857</td>\n",
       "      <td>5191.0</td>\n",
       "      <td>no</td>\n",
       "    </tr>\n",
       "    <tr>\n",
       "      <th>4</th>\n",
       "      <td>56</td>\n",
       "      <td>services</td>\n",
       "      <td>married</td>\n",
       "      <td>high.school</td>\n",
       "      <td>no</td>\n",
       "      <td>no</td>\n",
       "      <td>yes</td>\n",
       "      <td>telephone</td>\n",
       "      <td>may</td>\n",
       "      <td>mon</td>\n",
       "      <td>...</td>\n",
       "      <td>1</td>\n",
       "      <td>999</td>\n",
       "      <td>0</td>\n",
       "      <td>nonexistent</td>\n",
       "      <td>1.1</td>\n",
       "      <td>93.994</td>\n",
       "      <td>-36.4</td>\n",
       "      <td>4.857</td>\n",
       "      <td>5191.0</td>\n",
       "      <td>no</td>\n",
       "    </tr>\n",
       "  </tbody>\n",
       "</table>\n",
       "<p>5 rows × 21 columns</p>\n",
       "</div>"
      ],
      "text/plain": [
       "   age        job  marital    education  default housing loan    contact  \\\n",
       "0   56  housemaid  married     basic.4y       no      no   no  telephone   \n",
       "1   57   services  married  high.school  unknown      no   no  telephone   \n",
       "2   37   services  married  high.school       no     yes   no  telephone   \n",
       "3   40     admin.  married     basic.6y       no      no   no  telephone   \n",
       "4   56   services  married  high.school       no      no  yes  telephone   \n",
       "\n",
       "  month day_of_week  ...  campaign  pdays  previous     poutcome emp.var.rate  \\\n",
       "0   may         mon  ...         1    999         0  nonexistent          1.1   \n",
       "1   may         mon  ...         1    999         0  nonexistent          1.1   \n",
       "2   may         mon  ...         1    999         0  nonexistent          1.1   \n",
       "3   may         mon  ...         1    999         0  nonexistent          1.1   \n",
       "4   may         mon  ...         1    999         0  nonexistent          1.1   \n",
       "\n",
       "   cons.price.idx  cons.conf.idx  euribor3m  nr.employed   y  \n",
       "0          93.994          -36.4      4.857       5191.0  no  \n",
       "1          93.994          -36.4      4.857       5191.0  no  \n",
       "2          93.994          -36.4      4.857       5191.0  no  \n",
       "3          93.994          -36.4      4.857       5191.0  no  \n",
       "4          93.994          -36.4      4.857       5191.0  no  \n",
       "\n",
       "[5 rows x 21 columns]"
      ]
     },
     "execution_count": 2,
     "metadata": {},
     "output_type": "execute_result"
    }
   ],
   "source": [
    "# Download the zip file from the internet\n",
    "url = \"https://archive.ics.uci.edu/static/public/222/bank+marketing.zip\"\n",
    "response = requests.get(url)\n",
    "\n",
    "# Extract bank-additional.zip from the downloaded zip\n",
    "with zipfile.ZipFile(io.BytesIO(response.content)) as z:\n",
    "    with z.open('bank-additional.zip') as additional_zip_file:\n",
    "        with zipfile.ZipFile(additional_zip_file) as additional_zip:\n",
    "            # Extract bank-additional-full.csv from bank-additional.zip\n",
    "            with additional_zip.open('bank-additional/bank-additional-full.csv') as csvfile:\n",
    "                df = pd.read_csv(csvfile, sep=';')\n",
    "\n",
    "df.head()"
   ]
  },
  {
   "cell_type": "markdown",
   "id": "ce0e2f18",
   "metadata": {},
   "source": [
    "### Handle Missing Values\n",
    "\n",
    "There are some observations set as \"unknown\" in several categorical columns. Additionally, the `pdays` column has a value of 999 which means the client was not previously contacted. We will treat these as missing values."
   ]
  },
  {
   "cell_type": "code",
   "execution_count": null,
   "id": "83e36c2d",
   "metadata": {},
   "outputs": [
    {
     "name": "stdout",
     "output_type": "stream",
     "text": [
      "Columns with NA values and their % missing:\n",
      "pdays        96.32\n",
      "default      20.87\n",
      "education     4.20\n",
      "housing       2.40\n",
      "loan          2.40\n",
      "job           0.80\n",
      "marital       0.19\n",
      "duration      0.00\n",
      "dtype: float64\n"
     ]
    }
   ],
   "source": [
    "# Check for categorical variables that are \"unknown\" and replace 'unknown' with np.nan in all object (categorical) columns\n",
    "df_nas = df.copy()\n",
    "df_nas = df_nas.replace('unknown', np.nan)\n",
    "df_nas = df_nas.replace(999, np.nan)  # Replace 999 in 'pdays' with np.nan\n",
    "\n",
    "# Check for categorical variables that are now NA\n",
    "na_counts = df_nas.isna().sum()\n",
    "na_counts = na_counts[na_counts > 0].sort_values(ascending=False)\n",
    "na_perc = (na_counts / len(df_nas)) * 100\n",
    "print(\"Columns with NA values and their % missing:\")\n",
    "print(na_perc.round(2))"
   ]
  },
  {
   "cell_type": "markdown",
   "id": "2cec897d",
   "metadata": {},
   "source": [
    "`pdays` is now 96% missing in cases where the client has not been previously contacted. `default` (whether or not the client has credit in default) has significant missingness. `education` (education level), `housing` (whether the client has a housing loan), `loan` (whether the client has a personal loan), `job` (type of job), and `marital` (marital status) have some minor missingness. We will address this missingness next.\n",
    "\n"
   ]
  },
  {
   "cell_type": "markdown",
   "id": "c2afe54c",
   "metadata": {},
   "source": [
    "We drop `default`, whether the client has credit in default, since it is 21% missing and there is little risk of losing valuable information that our classifier needs to discriminate between classes (most clients with known data are not in default. 79% no, <1% yes, 20% unknown). We also drop `pdays` (number of days that passed by after the client was last contacted from a previous campaign) since it is 96% missing and was determined to be not useful for prediction according to the IV. For the other columns with minor missingness (`education`, `housing`, `loan`, `job`, and `marital`), we will drop rows with missing data. Since the missingness is low, we will not lose much information by dropping these rows. We also drop the `duration` column, the last contact duration in seconds, because this attribute highly affects the output target (e.g., if duration=0 then y=\"no\"). Per the bank data notes, this input should be discarded for our predictive model."
   ]
  },
  {
   "cell_type": "code",
   "execution_count": null,
   "id": "60e19ea4",
   "metadata": {},
   "outputs": [
    {
     "name": "stdout",
     "output_type": "stream",
     "text": [
      "Original dataset shape: (41188, 21)\n",
      "Cleaned dataset shape: (38245, 18)\n"
     ]
    }
   ],
   "source": [
    "# Save a new dataframe for preprocessing\n",
    "df_dropped = df_nas.copy()\n",
    "\n",
    "# Remove `default` and `pdays` columns due to high missingness. Drop duration per data notes.\n",
    "df_dropped = df_dropped.drop(columns=['default', 'pdays', 'duration'])\n",
    "\n",
    "# Drop rows with missing values in other columns\n",
    "df_dropped = df_dropped.dropna()\n",
    "\n",
    "# Display ns before and after dropping missing values\n",
    "print(f\"Original dataset shape: {df.shape}\")\n",
    "print(f\"Cleaned dataset shape: {df_dropped.shape}\")"
   ]
  },
  {
   "cell_type": "markdown",
   "id": "05b95c76",
   "metadata": {},
   "source": [
    "We still have sufficient data to run a decision tree, random forest, and AdaBoost model with, even after removing rows with missing values. \n",
    "\n",
    "### Handle Categorical Features\n",
    "\n",
    "Next, we map ordinal categorical variables to numeric values. In this case, we map the education levels to estimated number of years of schooling."
   ]
  },
  {
   "cell_type": "code",
   "execution_count": null,
   "id": "411cc238",
   "metadata": {},
   "outputs": [],
   "source": [
    "df_fe = df_dropped.copy()\n",
    "\n",
    "# Map education levels to numeric values\n",
    "education_mapping = {\n",
    "    'illiterate': 0,                # 0 years\n",
    "    'basic.4y': 4,                  # 4 years\n",
    "    'basic.6y': 6,                  # 6 years\n",
    "    'basic.9y': 9,                  # 9 years\n",
    "    'high.school': 12,              # 12 years (typical for high school)\n",
    "    'professional.course': 14,      # 14 years (post-secondary/professional)\n",
    "    'university.degree': 16         # 16 years (bachelor's degree)\n",
    "}\n",
    "df_fe['education'] = df_fe['education'].map(education_mapping)"
   ]
  },
  {
   "cell_type": "markdown",
   "id": "aed99cb7",
   "metadata": {},
   "source": [
    "With our dataset undersampled, we can see that we have rebalanced our data to align perfectly. We can now move onto the model training and experimentation section.\n",
    "\n",
    "> Noting that since tree-based models do not need standardization, one-hot encoding, PCA, or data balancing, we did not include this step in our EDA, even though we did perform it in our previous assignment."
   ]
  },
  {
   "cell_type": "markdown",
   "id": "d55ddc76",
   "metadata": {},
   "source": [
    "## Decision Trees"
   ]
  },
  {
   "cell_type": "markdown",
   "id": "076f67af",
   "metadata": {},
   "source": [
    "### Experiment 1\n",
    "\n",
    "**Objective**: To test different data sampling techniques to determine the most relevant variables in a decision tree model predicting customers' decision to subscribe to the bank's term deposit.\n",
    "\n",
    "**Variation tested**:\n",
    "\n",
    "**Evaluation metric**:\n",
    "\n",
    "**Test**: "
   ]
  },
  {
   "cell_type": "code",
   "execution_count": null,
   "id": "5c591acf",
   "metadata": {},
   "outputs": [],
   "source": [
    "# Separate features and target\n",
    "X = df_fe.drop(columns=['y'])\n",
    "y = df_fe['y']\n",
    "\n",
    "# Randomly split the X and y arrays into 30 percent test data and 70 percent training data.\n",
    "X_train, X_test, y_train, y_test = train_test_split(\n",
    "    X, y, test_size=0.3, random_state=1, stratify=y\n",
    ")\n",
    "\n",
    "# Create and fit a decision tree model\n",
    "tree_model = DecisionTreeClassifier(criterion='gini',\n",
    "                                     max_depth=4,\n",
    "                                     random_state=1)\n",
    "tree_model.fit(X_train, y_train)\n",
    "X_combined = np.vstack((X_train, X_test))\n",
    "y_combined = np.hstack((y_train, y_test))"
   ]
  },
  {
   "cell_type": "code",
   "execution_count": null,
   "id": "863e4082",
   "metadata": {},
   "outputs": [],
   "source": [
    "feature_names = ['Sepal length', 'Sepal width',\n",
    "                  'Petal length', 'Petal width']\n",
    "tree.plot_tree(tree_model,\n",
    "               feature_names=feature_names,\n",
    "               filled=True)\n",
    "plt.show()"
   ]
  },
  {
   "cell_type": "markdown",
   "id": "35e1f2f2",
   "metadata": {},
   "source": [
    "**Result**:\n",
    "\n",
    "**Recommendation**:"
   ]
  },
  {
   "cell_type": "markdown",
   "id": "e76de700",
   "metadata": {},
   "source": [
    "### Experiment 2\n",
    "\n",
    "**Objective**:\n",
    "\n",
    "**Variation tested**:\n",
    "\n",
    "**Evaluation metric**:\n",
    "\n",
    "**Test**: "
   ]
  },
  {
   "cell_type": "code",
   "execution_count": null,
   "id": "bcc54ac7",
   "metadata": {},
   "outputs": [],
   "source": []
  },
  {
   "cell_type": "markdown",
   "id": "d7817d93",
   "metadata": {},
   "source": [
    "**Result**:\n",
    "\n",
    "**Recommendation**:"
   ]
  },
  {
   "cell_type": "markdown",
   "id": "6c75ccfc",
   "metadata": {},
   "source": [
    "## Random Forest"
   ]
  },
  {
   "cell_type": "markdown",
   "id": "cbe95337",
   "metadata": {},
   "source": [
    "### Experiment 1\n",
    "\n",
    "**Objective**:\n",
    "\n",
    "**Variation tested**:\n",
    "\n",
    "**Evaluation metric**:\n",
    "\n",
    "**Test**: "
   ]
  },
  {
   "cell_type": "code",
   "execution_count": null,
   "id": "fde98fa8",
   "metadata": {},
   "outputs": [],
   "source": []
  },
  {
   "cell_type": "markdown",
   "id": "41d8e8a5",
   "metadata": {},
   "source": [
    "**Result**:\n",
    "\n",
    "**Recommendation**:"
   ]
  },
  {
   "cell_type": "markdown",
   "id": "540ee431",
   "metadata": {},
   "source": [
    "### Experiment 2\n",
    "\n",
    "**Objective**:\n",
    "\n",
    "**Variation tested**:\n",
    "\n",
    "**Evaluation metric**:\n",
    "\n",
    "**Test**: "
   ]
  },
  {
   "cell_type": "code",
   "execution_count": null,
   "id": "0f5bd9db",
   "metadata": {},
   "outputs": [],
   "source": []
  },
  {
   "cell_type": "markdown",
   "id": "5c98012a",
   "metadata": {},
   "source": [
    "**Result**:\n",
    "\n",
    "**Recommendation**:"
   ]
  },
  {
   "cell_type": "markdown",
   "id": "bedb3415",
   "metadata": {},
   "source": [
    "## Adaboost"
   ]
  },
  {
   "cell_type": "markdown",
   "id": "404dc100",
   "metadata": {},
   "source": [
    "### Experiment 1\n",
    "\n",
    "**Objective**:\n",
    "\n",
    "**Variation tested**:\n",
    "\n",
    "**Evaluation metric**:\n",
    "\n",
    "**Test**: "
   ]
  },
  {
   "cell_type": "code",
   "execution_count": null,
   "id": "6e365a44",
   "metadata": {},
   "outputs": [],
   "source": []
  },
  {
   "cell_type": "markdown",
   "id": "f42d253c",
   "metadata": {},
   "source": [
    "**Result**:\n",
    "\n",
    "**Recommendation**:"
   ]
  },
  {
   "cell_type": "markdown",
   "id": "21e23e1e",
   "metadata": {},
   "source": [
    "### Experiment 2\n",
    "\n",
    "**Objective**:\n",
    "\n",
    "**Variation tested**:\n",
    "\n",
    "**Evaluation metric**:\n",
    "\n",
    "**Test**: "
   ]
  },
  {
   "cell_type": "code",
   "execution_count": null,
   "id": "2d02d9e9",
   "metadata": {},
   "outputs": [],
   "source": []
  },
  {
   "cell_type": "markdown",
   "id": "2ad198f7",
   "metadata": {},
   "source": [
    "**Result**:\n",
    "\n",
    "**Recommendation**:"
   ]
  }
 ],
 "metadata": {
  "kernelspec": {
   "display_name": "data622-python-venv (3.11.9)",
   "language": "python",
   "name": "python3"
  },
  "language_info": {
   "codemirror_mode": {
    "name": "ipython",
    "version": 3
   },
   "file_extension": ".py",
   "mimetype": "text/x-python",
   "name": "python",
   "nbconvert_exporter": "python",
   "pygments_lexer": "ipython3",
   "version": "3.11.9"
  }
 },
 "nbformat": 4,
 "nbformat_minor": 5
}
