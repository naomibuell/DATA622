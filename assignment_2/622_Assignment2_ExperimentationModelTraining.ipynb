{
 "cells": [
  {
   "cell_type": "markdown",
   "id": "b03adb2a",
   "metadata": {},
   "source": [
    "# Assignment 2: Experimentation & Model Training\n",
    "Authors: Naomi Buell and Richie Rivera\n",
    "\n",
    "*Assignment*\n",
    "\n",
    "*This assignment consists of conducting at least two (2) experiments for different algorithms: Decision Trees, Random Forest and Adaboost. That is, at least six (6) experiments in total (3 algorithms x 2 experiments each). For each experiment you will define what you are trying to achieve (before each run), conduct the experiment, and at the end you will review how your experiment went. These experiments will allow you to compare algorithms and choose the optimal model.*\n",
    "\n",
    "*Using the dataset and EDA from the previous assignment, perform the following:*\n",
    "\n",
    "1. *Algorithm Selection:*\n",
    "*You will perform experiments using the following algorithms:*\n",
    "- *Decision Trees*\n",
    "- *Random Forest*\n",
    "- *Adaboost*\n",
    "\n",
    "2. *Experiment:*\n",
    "*For each of the algorithms (above), perform at least two (2) experiments. In a typical experiment you should:*\n",
    "- *Define the objective of the experiment (hypothesis)*\n",
    "- *Decide what will change, and what will stay the same*\n",
    "- *Select the evaluation metric (what you want to measure)*\n",
    "- *Perform the experiment*\n",
    "- *Document the experiment so you compare results (track progress)*\n",
    "\n",
    "3. *Variations:*\n",
    "*There are many things you can vary between experiments, here are some examples:*\n",
    "\n",
    "- *Data sampling  (feature selection)*\n",
    "- *Data augmentation e.g., regularization, normalization, scaling*\n",
    "- *Hyperparameter optimization (you decide, random search, grid search, etc.)*\n",
    "- *Decision Tree breadth & depth (this is an example of a hyperparameter)*\n",
    "- *Evaluation metrics e.g., Accuracy, precision, recall, F1-score, AUC-ROC*\n",
    "- *Cross-validation strategy e.g., holdout, k-fold, leave-one-out*\n",
    "- *Number of trees (for ensemble models)*\n",
    "- *Train-test split: Using different data splits to assess model generalization ability*"
   ]
  },
  {
   "cell_type": "markdown",
   "id": "f4d76f51",
   "metadata": {},
   "source": [
    "## EDA Recap\n",
    "\n",
    "### Load Libraries and Dataset\n",
    "\n",
    "First, we import libraries and load the Portuguese banking dataset."
   ]
  },
  {
   "cell_type": "code",
   "execution_count": 1,
   "id": "6fc549ca",
   "metadata": {},
   "outputs": [],
   "source": [
    "# Load libraries\n",
    "import pandas as pd\n",
    "import matplotlib.pyplot as plt\n",
    "from sklearn.decomposition import PCA\n",
    "from sklearn.model_selection import train_test_split\n",
    "import numpy as np\n",
    "import zipfile\n",
    "import io\n",
    "import requests\n",
    "from imblearn.under_sampling import RandomUnderSampler"
   ]
  },
  {
   "cell_type": "code",
   "execution_count": 2,
   "id": "adb5f65f",
   "metadata": {},
   "outputs": [
    {
     "data": {
      "application/vnd.microsoft.datawrangler.viewer.v0+json": {
       "columns": [
        {
         "name": "index",
         "rawType": "int64",
         "type": "integer"
        },
        {
         "name": "age",
         "rawType": "int64",
         "type": "integer"
        },
        {
         "name": "job",
         "rawType": "object",
         "type": "string"
        },
        {
         "name": "marital",
         "rawType": "object",
         "type": "string"
        },
        {
         "name": "education",
         "rawType": "object",
         "type": "string"
        },
        {
         "name": "default",
         "rawType": "object",
         "type": "string"
        },
        {
         "name": "housing",
         "rawType": "object",
         "type": "string"
        },
        {
         "name": "loan",
         "rawType": "object",
         "type": "string"
        },
        {
         "name": "contact",
         "rawType": "object",
         "type": "string"
        },
        {
         "name": "month",
         "rawType": "object",
         "type": "string"
        },
        {
         "name": "day_of_week",
         "rawType": "object",
         "type": "string"
        },
        {
         "name": "duration",
         "rawType": "int64",
         "type": "integer"
        },
        {
         "name": "campaign",
         "rawType": "int64",
         "type": "integer"
        },
        {
         "name": "pdays",
         "rawType": "int64",
         "type": "integer"
        },
        {
         "name": "previous",
         "rawType": "int64",
         "type": "integer"
        },
        {
         "name": "poutcome",
         "rawType": "object",
         "type": "string"
        },
        {
         "name": "emp.var.rate",
         "rawType": "float64",
         "type": "float"
        },
        {
         "name": "cons.price.idx",
         "rawType": "float64",
         "type": "float"
        },
        {
         "name": "cons.conf.idx",
         "rawType": "float64",
         "type": "float"
        },
        {
         "name": "euribor3m",
         "rawType": "float64",
         "type": "float"
        },
        {
         "name": "nr.employed",
         "rawType": "float64",
         "type": "float"
        },
        {
         "name": "y",
         "rawType": "object",
         "type": "string"
        }
       ],
       "ref": "0d8781e5-4b75-4bdf-bb37-165ce162eb71",
       "rows": [
        [
         "0",
         "56",
         "housemaid",
         "married",
         "basic.4y",
         "no",
         "no",
         "no",
         "telephone",
         "may",
         "mon",
         "261",
         "1",
         "999",
         "0",
         "nonexistent",
         "1.1",
         "93.994",
         "-36.4",
         "4.857",
         "5191.0",
         "no"
        ],
        [
         "1",
         "57",
         "services",
         "married",
         "high.school",
         "unknown",
         "no",
         "no",
         "telephone",
         "may",
         "mon",
         "149",
         "1",
         "999",
         "0",
         "nonexistent",
         "1.1",
         "93.994",
         "-36.4",
         "4.857",
         "5191.0",
         "no"
        ],
        [
         "2",
         "37",
         "services",
         "married",
         "high.school",
         "no",
         "yes",
         "no",
         "telephone",
         "may",
         "mon",
         "226",
         "1",
         "999",
         "0",
         "nonexistent",
         "1.1",
         "93.994",
         "-36.4",
         "4.857",
         "5191.0",
         "no"
        ],
        [
         "3",
         "40",
         "admin.",
         "married",
         "basic.6y",
         "no",
         "no",
         "no",
         "telephone",
         "may",
         "mon",
         "151",
         "1",
         "999",
         "0",
         "nonexistent",
         "1.1",
         "93.994",
         "-36.4",
         "4.857",
         "5191.0",
         "no"
        ],
        [
         "4",
         "56",
         "services",
         "married",
         "high.school",
         "no",
         "no",
         "yes",
         "telephone",
         "may",
         "mon",
         "307",
         "1",
         "999",
         "0",
         "nonexistent",
         "1.1",
         "93.994",
         "-36.4",
         "4.857",
         "5191.0",
         "no"
        ]
       ],
       "shape": {
        "columns": 21,
        "rows": 5
       }
      },
      "text/html": [
       "<div>\n",
       "<style scoped>\n",
       "    .dataframe tbody tr th:only-of-type {\n",
       "        vertical-align: middle;\n",
       "    }\n",
       "\n",
       "    .dataframe tbody tr th {\n",
       "        vertical-align: top;\n",
       "    }\n",
       "\n",
       "    .dataframe thead th {\n",
       "        text-align: right;\n",
       "    }\n",
       "</style>\n",
       "<table border=\"1\" class=\"dataframe\">\n",
       "  <thead>\n",
       "    <tr style=\"text-align: right;\">\n",
       "      <th></th>\n",
       "      <th>age</th>\n",
       "      <th>job</th>\n",
       "      <th>marital</th>\n",
       "      <th>education</th>\n",
       "      <th>default</th>\n",
       "      <th>housing</th>\n",
       "      <th>loan</th>\n",
       "      <th>contact</th>\n",
       "      <th>month</th>\n",
       "      <th>day_of_week</th>\n",
       "      <th>...</th>\n",
       "      <th>campaign</th>\n",
       "      <th>pdays</th>\n",
       "      <th>previous</th>\n",
       "      <th>poutcome</th>\n",
       "      <th>emp.var.rate</th>\n",
       "      <th>cons.price.idx</th>\n",
       "      <th>cons.conf.idx</th>\n",
       "      <th>euribor3m</th>\n",
       "      <th>nr.employed</th>\n",
       "      <th>y</th>\n",
       "    </tr>\n",
       "  </thead>\n",
       "  <tbody>\n",
       "    <tr>\n",
       "      <th>0</th>\n",
       "      <td>56</td>\n",
       "      <td>housemaid</td>\n",
       "      <td>married</td>\n",
       "      <td>basic.4y</td>\n",
       "      <td>no</td>\n",
       "      <td>no</td>\n",
       "      <td>no</td>\n",
       "      <td>telephone</td>\n",
       "      <td>may</td>\n",
       "      <td>mon</td>\n",
       "      <td>...</td>\n",
       "      <td>1</td>\n",
       "      <td>999</td>\n",
       "      <td>0</td>\n",
       "      <td>nonexistent</td>\n",
       "      <td>1.1</td>\n",
       "      <td>93.994</td>\n",
       "      <td>-36.4</td>\n",
       "      <td>4.857</td>\n",
       "      <td>5191.0</td>\n",
       "      <td>no</td>\n",
       "    </tr>\n",
       "    <tr>\n",
       "      <th>1</th>\n",
       "      <td>57</td>\n",
       "      <td>services</td>\n",
       "      <td>married</td>\n",
       "      <td>high.school</td>\n",
       "      <td>unknown</td>\n",
       "      <td>no</td>\n",
       "      <td>no</td>\n",
       "      <td>telephone</td>\n",
       "      <td>may</td>\n",
       "      <td>mon</td>\n",
       "      <td>...</td>\n",
       "      <td>1</td>\n",
       "      <td>999</td>\n",
       "      <td>0</td>\n",
       "      <td>nonexistent</td>\n",
       "      <td>1.1</td>\n",
       "      <td>93.994</td>\n",
       "      <td>-36.4</td>\n",
       "      <td>4.857</td>\n",
       "      <td>5191.0</td>\n",
       "      <td>no</td>\n",
       "    </tr>\n",
       "    <tr>\n",
       "      <th>2</th>\n",
       "      <td>37</td>\n",
       "      <td>services</td>\n",
       "      <td>married</td>\n",
       "      <td>high.school</td>\n",
       "      <td>no</td>\n",
       "      <td>yes</td>\n",
       "      <td>no</td>\n",
       "      <td>telephone</td>\n",
       "      <td>may</td>\n",
       "      <td>mon</td>\n",
       "      <td>...</td>\n",
       "      <td>1</td>\n",
       "      <td>999</td>\n",
       "      <td>0</td>\n",
       "      <td>nonexistent</td>\n",
       "      <td>1.1</td>\n",
       "      <td>93.994</td>\n",
       "      <td>-36.4</td>\n",
       "      <td>4.857</td>\n",
       "      <td>5191.0</td>\n",
       "      <td>no</td>\n",
       "    </tr>\n",
       "    <tr>\n",
       "      <th>3</th>\n",
       "      <td>40</td>\n",
       "      <td>admin.</td>\n",
       "      <td>married</td>\n",
       "      <td>basic.6y</td>\n",
       "      <td>no</td>\n",
       "      <td>no</td>\n",
       "      <td>no</td>\n",
       "      <td>telephone</td>\n",
       "      <td>may</td>\n",
       "      <td>mon</td>\n",
       "      <td>...</td>\n",
       "      <td>1</td>\n",
       "      <td>999</td>\n",
       "      <td>0</td>\n",
       "      <td>nonexistent</td>\n",
       "      <td>1.1</td>\n",
       "      <td>93.994</td>\n",
       "      <td>-36.4</td>\n",
       "      <td>4.857</td>\n",
       "      <td>5191.0</td>\n",
       "      <td>no</td>\n",
       "    </tr>\n",
       "    <tr>\n",
       "      <th>4</th>\n",
       "      <td>56</td>\n",
       "      <td>services</td>\n",
       "      <td>married</td>\n",
       "      <td>high.school</td>\n",
       "      <td>no</td>\n",
       "      <td>no</td>\n",
       "      <td>yes</td>\n",
       "      <td>telephone</td>\n",
       "      <td>may</td>\n",
       "      <td>mon</td>\n",
       "      <td>...</td>\n",
       "      <td>1</td>\n",
       "      <td>999</td>\n",
       "      <td>0</td>\n",
       "      <td>nonexistent</td>\n",
       "      <td>1.1</td>\n",
       "      <td>93.994</td>\n",
       "      <td>-36.4</td>\n",
       "      <td>4.857</td>\n",
       "      <td>5191.0</td>\n",
       "      <td>no</td>\n",
       "    </tr>\n",
       "  </tbody>\n",
       "</table>\n",
       "<p>5 rows × 21 columns</p>\n",
       "</div>"
      ],
      "text/plain": [
       "   age        job  marital    education  default housing loan    contact  \\\n",
       "0   56  housemaid  married     basic.4y       no      no   no  telephone   \n",
       "1   57   services  married  high.school  unknown      no   no  telephone   \n",
       "2   37   services  married  high.school       no     yes   no  telephone   \n",
       "3   40     admin.  married     basic.6y       no      no   no  telephone   \n",
       "4   56   services  married  high.school       no      no  yes  telephone   \n",
       "\n",
       "  month day_of_week  ...  campaign  pdays  previous     poutcome emp.var.rate  \\\n",
       "0   may         mon  ...         1    999         0  nonexistent          1.1   \n",
       "1   may         mon  ...         1    999         0  nonexistent          1.1   \n",
       "2   may         mon  ...         1    999         0  nonexistent          1.1   \n",
       "3   may         mon  ...         1    999         0  nonexistent          1.1   \n",
       "4   may         mon  ...         1    999         0  nonexistent          1.1   \n",
       "\n",
       "   cons.price.idx  cons.conf.idx  euribor3m  nr.employed   y  \n",
       "0          93.994          -36.4      4.857       5191.0  no  \n",
       "1          93.994          -36.4      4.857       5191.0  no  \n",
       "2          93.994          -36.4      4.857       5191.0  no  \n",
       "3          93.994          -36.4      4.857       5191.0  no  \n",
       "4          93.994          -36.4      4.857       5191.0  no  \n",
       "\n",
       "[5 rows x 21 columns]"
      ]
     },
     "execution_count": 2,
     "metadata": {},
     "output_type": "execute_result"
    }
   ],
   "source": [
    "# Download the zip file from the internet\n",
    "url = \"https://archive.ics.uci.edu/static/public/222/bank+marketing.zip\"\n",
    "response = requests.get(url)\n",
    "\n",
    "# Extract bank-additional.zip from the downloaded zip\n",
    "with zipfile.ZipFile(io.BytesIO(response.content)) as z:\n",
    "    with z.open('bank-additional.zip') as additional_zip_file:\n",
    "        with zipfile.ZipFile(additional_zip_file) as additional_zip:\n",
    "            # Extract bank-additional-full.csv from bank-additional.zip\n",
    "            with additional_zip.open('bank-additional/bank-additional-full.csv') as csvfile:\n",
    "                df = pd.read_csv(csvfile, sep=';')\n",
    "\n",
    "df.head()"
   ]
  },
  {
   "cell_type": "markdown",
   "id": "ce0e2f18",
   "metadata": {},
   "source": [
    "### Handle Missing Values\n",
    "\n",
    "There are some observations set as \"unknown\" in several categorical columns. Additionally, the `pdays` column has a value of 999 which means the client was not previously contacted. We will treat these as missing values."
   ]
  },
  {
   "cell_type": "code",
   "execution_count": 3,
   "id": "83e36c2d",
   "metadata": {},
   "outputs": [
    {
     "name": "stdout",
     "output_type": "stream",
     "text": [
      "Columns with NA values and their % missing:\n",
      "pdays        96.32\n",
      "default      20.87\n",
      "education     4.20\n",
      "housing       2.40\n",
      "loan          2.40\n",
      "job           0.80\n",
      "marital       0.19\n",
      "duration      0.00\n",
      "dtype: float64\n"
     ]
    }
   ],
   "source": [
    "# Check for categorical variables that are \"unknown\" and replace 'unknown' with np.nan in all object (categorical) columns\n",
    "df_nas = df.copy()\n",
    "df_nas = df_nas.replace('unknown', np.nan)\n",
    "df_nas = df_nas.replace(999, np.nan)  # Replace 999 in 'pdays' with np.nan\n",
    "\n",
    "# Check for categorical variables that are now NA\n",
    "na_counts = df_nas.isna().sum()\n",
    "na_counts = na_counts[na_counts > 0].sort_values(ascending=False)\n",
    "na_perc = (na_counts / len(df_nas)) * 100\n",
    "print(\"Columns with NA values and their % missing:\")\n",
    "print(na_perc.round(2))"
   ]
  },
  {
   "cell_type": "markdown",
   "id": "2cec897d",
   "metadata": {},
   "source": [
    "`pdays` is now 96% missing in cases where the client has not been previously contacted. `default` (whether or not the client has credit in default) has significant missingness. `education` (education level), `housing` (whether the client has a housing loan), `loan` (whether the client has a personal loan), `job` (type of job), and `marital` (marital status) have some minor missingness. We will address this missingness next.\n",
    "\n"
   ]
  },
  {
   "cell_type": "markdown",
   "id": "c2afe54c",
   "metadata": {},
   "source": [
    "We drop `default`, whether the client has credit in default, since it is 21% missing and there is little risk of losing valuable information that our classifier needs to discriminate between classes (most clients with known data are not in default. 79% no, <1% yes, 20% unknown). We also drop `pdays` (number of days that passed by after the client was last contacted from a previous campaign) since it is 96% missing and was determined to be not useful for prediction according to the IV. For the other columns with minor missingness (`education`, `housing`, `loan`, `job`, and `marital`), we will drop rows with missing data. Since the missingness is low, we will not lose much information by dropping these rows. We also drop the `duration` column, the last contact duration in seconds, because this attribute highly affects the output target (e.g., if duration=0 then y=\"no\"). Per the bank data notes, this input should be discarded for our predictive model."
   ]
  },
  {
   "cell_type": "code",
   "execution_count": 4,
   "id": "60e19ea4",
   "metadata": {},
   "outputs": [
    {
     "name": "stdout",
     "output_type": "stream",
     "text": [
      "Original dataset shape: (41188, 21)\n",
      "Cleaned dataset shape: (38245, 18)\n"
     ]
    }
   ],
   "source": [
    "# Save a new dataframe for preprocessing\n",
    "df_dropped = df_nas.copy()\n",
    "\n",
    "# Remove `default` and `pdays` columns due to high missingness. Drop duration per data notes.\n",
    "df_dropped = df_dropped.drop(columns=['default', 'pdays', 'duration'])\n",
    "\n",
    "# Drop rows with missing values in other columns\n",
    "df_dropped = df_dropped.dropna()\n",
    "\n",
    "# Display ns before and after dropping missing values\n",
    "print(f\"Original dataset shape: {df.shape}\")\n",
    "print(f\"Cleaned dataset shape: {df_dropped.shape}\")"
   ]
  },
  {
   "cell_type": "markdown",
   "id": "05b95c76",
   "metadata": {},
   "source": [
    "We still have sufficient data to run a decision tree, random forest, and AdaBoost model with, even after removing rows with missing values. \n",
    "\n",
    "### Handle Categorical Features\n",
    "\n",
    "Next, we map ordinal categorical variables to numeric values. In this case, we map the education levels to estimated number of years of schooling."
   ]
  },
  {
   "cell_type": "code",
   "execution_count": 5,
   "id": "411cc238",
   "metadata": {},
   "outputs": [],
   "source": [
    "df_fe = df_dropped.copy()\n",
    "\n",
    "# Map education levels to numeric values\n",
    "education_mapping = {\n",
    "    'illiterate': 0,                # 0 years\n",
    "    'basic.4y': 4,                  # 4 years\n",
    "    'basic.6y': 6,                  # 6 years\n",
    "    'basic.9y': 9,                  # 9 years\n",
    "    'high.school': 12,              # 12 years (typical for high school)\n",
    "    'professional.course': 14,      # 14 years (post-secondary/professional)\n",
    "    'university.degree': 16         # 16 years (bachelor's degree)\n",
    "}\n",
    "df_fe['education'] = df_fe['education'].map(education_mapping)"
   ]
  },
  {
   "cell_type": "markdown",
   "id": "6695f570",
   "metadata": {},
   "source": [
    "### Dimensionality Reduction\n",
    "\n",
    "> Programmer Note: Is dimensionality reduction necessary for tree-based models? If not, should we remove this section?\n",
    "\n",
    "`emp.var.rate`, `euribor3m`, and `nr.employed` are all highly correlated with eachother (r = 0.91 to 0.97). To this end, we perform PCA (Principal Component Analysis) to reduce the feature space and remove some predictors. PCA is an unsupervised technique that reduces dimensionality by maximizing variance, independent of the target variable. Via PCA, we create principal components that represent linear combinations of the features."
   ]
  },
  {
   "cell_type": "code",
   "execution_count": 6,
   "id": "50e2877d",
   "metadata": {},
   "outputs": [],
   "source": [
    "# Separate features and target\n",
    "X = df_fe.drop(columns=['y'])\n",
    "y = df_fe['y']"
   ]
  },
  {
   "cell_type": "code",
   "execution_count": 7,
   "id": "7a33aef9",
   "metadata": {},
   "outputs": [],
   "source": [
    "# Randomly split the X and y arrays into 30 percent test data and 70 percent training data.\n",
    "X_train, X_test, y_train, y_test = train_test_split(\n",
    "    X, y, test_size=0.3, random_state=1, stratify=y\n",
    ")"
   ]
  },
  {
   "cell_type": "code",
   "execution_count": 8,
   "id": "ffa00051",
   "metadata": {},
   "outputs": [
    {
     "ename": "ValueError",
     "evalue": "could not convert string to float: 'blue-collar'",
     "output_type": "error",
     "traceback": [
      "\u001b[31m---------------------------------------------------------------------------\u001b[39m",
      "\u001b[31mValueError\u001b[39m                                Traceback (most recent call last)",
      "\u001b[32m/var/folders/dc/lsr79y5d6g75qdx4_s0tt9nh0000gn/T/ipykernel_40884/560696756.py\u001b[39m in \u001b[36m?\u001b[39m\u001b[34m()\u001b[39m\n\u001b[32m      1\u001b[39m \u001b[38;5;66;03m# initializing the PCA transformer and\u001b[39;00m\n\u001b[32m      2\u001b[39m pca = PCA(n_components=\u001b[32m2\u001b[39m)\n\u001b[32m      3\u001b[39m \n\u001b[32m      4\u001b[39m \u001b[38;5;66;03m# dimensionality reduction:\u001b[39;00m\n\u001b[32m----> \u001b[39m\u001b[32m5\u001b[39m X_train_pca = pca.fit_transform(X_train) \u001b[38;5;66;03m# standardized training data\u001b[39;00m\n\u001b[32m      6\u001b[39m X_test_pca = pca.transform(X_test) \u001b[38;5;66;03m# standardized test data\u001b[39;00m\n",
      "\u001b[32m/opt/anaconda3/lib/python3.13/site-packages/sklearn/utils/_set_output.py\u001b[39m in \u001b[36m?\u001b[39m\u001b[34m(self, X, *args, **kwargs)\u001b[39m\n\u001b[32m    317\u001b[39m     @wraps(f)\n\u001b[32m    318\u001b[39m     \u001b[38;5;28;01mdef\u001b[39;00m wrapped(self, X, *args, **kwargs):\n\u001b[32m--> \u001b[39m\u001b[32m319\u001b[39m         data_to_wrap = f(self, X, *args, **kwargs)\n\u001b[32m    320\u001b[39m         \u001b[38;5;28;01mif\u001b[39;00m isinstance(data_to_wrap, tuple):\n\u001b[32m    321\u001b[39m             \u001b[38;5;66;03m# only wrap the first output for cross decomposition\u001b[39;00m\n\u001b[32m    322\u001b[39m             return_tuple = (\n",
      "\u001b[32m/opt/anaconda3/lib/python3.13/site-packages/sklearn/base.py\u001b[39m in \u001b[36m?\u001b[39m\u001b[34m(estimator, *args, **kwargs)\u001b[39m\n\u001b[32m   1385\u001b[39m                 skip_parameter_validation=(\n\u001b[32m   1386\u001b[39m                     prefer_skip_nested_validation \u001b[38;5;28;01mor\u001b[39;00m global_skip_validation\n\u001b[32m   1387\u001b[39m                 )\n\u001b[32m   1388\u001b[39m             ):\n\u001b[32m-> \u001b[39m\u001b[32m1389\u001b[39m                 \u001b[38;5;28;01mreturn\u001b[39;00m fit_method(estimator, *args, **kwargs)\n",
      "\u001b[32m/opt/anaconda3/lib/python3.13/site-packages/sklearn/decomposition/_pca.py\u001b[39m in \u001b[36m?\u001b[39m\u001b[34m(self, X, y)\u001b[39m\n\u001b[32m    464\u001b[39m         -----\n\u001b[32m    465\u001b[39m         This method returns a Fortran-ordered array. To convert it to a\n\u001b[32m    466\u001b[39m         C-ordered array, use \u001b[33m'np.ascontiguousarray'\u001b[39m.\n\u001b[32m    467\u001b[39m         \"\"\"\n\u001b[32m--> \u001b[39m\u001b[32m468\u001b[39m         U, S, _, X, x_is_centered, xp = self._fit(X)\n\u001b[32m    469\u001b[39m         \u001b[38;5;28;01mif\u001b[39;00m U \u001b[38;5;28;01mis\u001b[39;00m \u001b[38;5;28;01mnot\u001b[39;00m \u001b[38;5;28;01mNone\u001b[39;00m:\n\u001b[32m    470\u001b[39m             U = U[:, : self.n_components_]\n\u001b[32m    471\u001b[39m \n",
      "\u001b[32m/opt/anaconda3/lib/python3.13/site-packages/sklearn/decomposition/_pca.py\u001b[39m in \u001b[36m?\u001b[39m\u001b[34m(self, X)\u001b[39m\n\u001b[32m    501\u001b[39m         \u001b[38;5;66;03m# written in a way to avoid the need for any inplace modification of\u001b[39;00m\n\u001b[32m    502\u001b[39m         \u001b[38;5;66;03m# the input data contrary to the other solvers.\u001b[39;00m\n\u001b[32m    503\u001b[39m         \u001b[38;5;66;03m# The copy will happen\u001b[39;00m\n\u001b[32m    504\u001b[39m         \u001b[38;5;66;03m# later, only if needed, once the solver negotiation below is done.\u001b[39;00m\n\u001b[32m--> \u001b[39m\u001b[32m505\u001b[39m         X = validate_data(\n\u001b[32m    506\u001b[39m             self,\n\u001b[32m    507\u001b[39m             X,\n\u001b[32m    508\u001b[39m             dtype=[xp.float64, xp.float32],\n",
      "\u001b[32m/opt/anaconda3/lib/python3.13/site-packages/sklearn/utils/validation.py\u001b[39m in \u001b[36m?\u001b[39m\u001b[34m(_estimator, X, y, reset, validate_separately, skip_check_array, **check_params)\u001b[39m\n\u001b[32m   2940\u001b[39m             out = y\n\u001b[32m   2941\u001b[39m         \u001b[38;5;28;01melse\u001b[39;00m:\n\u001b[32m   2942\u001b[39m             out = X, y\n\u001b[32m   2943\u001b[39m     \u001b[38;5;28;01melif\u001b[39;00m \u001b[38;5;28;01mnot\u001b[39;00m no_val_X \u001b[38;5;28;01mand\u001b[39;00m no_val_y:\n\u001b[32m-> \u001b[39m\u001b[32m2944\u001b[39m         out = check_array(X, input_name=\u001b[33m\"X\"\u001b[39m, **check_params)\n\u001b[32m   2945\u001b[39m     \u001b[38;5;28;01melif\u001b[39;00m no_val_X \u001b[38;5;28;01mand\u001b[39;00m \u001b[38;5;28;01mnot\u001b[39;00m no_val_y:\n\u001b[32m   2946\u001b[39m         out = _check_y(y, **check_params)\n\u001b[32m   2947\u001b[39m     \u001b[38;5;28;01melse\u001b[39;00m:\n",
      "\u001b[32m/opt/anaconda3/lib/python3.13/site-packages/sklearn/utils/validation.py\u001b[39m in \u001b[36m?\u001b[39m\u001b[34m(array, accept_sparse, accept_large_sparse, dtype, order, copy, force_writeable, force_all_finite, ensure_all_finite, ensure_non_negative, ensure_2d, allow_nd, ensure_min_samples, ensure_min_features, estimator, input_name)\u001b[39m\n\u001b[32m   1052\u001b[39m                         )\n\u001b[32m   1053\u001b[39m                     array = xp.astype(array, dtype, copy=\u001b[38;5;28;01mFalse\u001b[39;00m)\n\u001b[32m   1054\u001b[39m                 \u001b[38;5;28;01melse\u001b[39;00m:\n\u001b[32m   1055\u001b[39m                     array = _asarray_with_order(array, order=order, dtype=dtype, xp=xp)\n\u001b[32m-> \u001b[39m\u001b[32m1056\u001b[39m             \u001b[38;5;28;01mexcept\u001b[39;00m ComplexWarning \u001b[38;5;28;01mas\u001b[39;00m complex_warning:\n\u001b[32m   1057\u001b[39m                 raise ValueError(\n\u001b[32m   1058\u001b[39m                     \u001b[33m\"Complex data not supported\\n{}\\n\"\u001b[39m.format(array)\n\u001b[32m   1059\u001b[39m                 ) \u001b[38;5;28;01mfrom\u001b[39;00m complex_warning\n",
      "\u001b[32m/opt/anaconda3/lib/python3.13/site-packages/sklearn/utils/_array_api.py\u001b[39m in \u001b[36m?\u001b[39m\u001b[34m(array, dtype, order, copy, xp, device)\u001b[39m\n\u001b[32m    835\u001b[39m         \u001b[38;5;66;03m# Use NumPy API to support order\u001b[39;00m\n\u001b[32m    836\u001b[39m         \u001b[38;5;28;01mif\u001b[39;00m copy \u001b[38;5;28;01mis\u001b[39;00m \u001b[38;5;28;01mTrue\u001b[39;00m:\n\u001b[32m    837\u001b[39m             array = numpy.array(array, order=order, dtype=dtype)\n\u001b[32m    838\u001b[39m         \u001b[38;5;28;01melse\u001b[39;00m:\n\u001b[32m--> \u001b[39m\u001b[32m839\u001b[39m             array = numpy.asarray(array, order=order, dtype=dtype)\n\u001b[32m    840\u001b[39m \n\u001b[32m    841\u001b[39m         \u001b[38;5;66;03m# At this point array is a NumPy ndarray. We convert it to an array\u001b[39;00m\n\u001b[32m    842\u001b[39m         \u001b[38;5;66;03m# container that is consistent with the input's namespace.\u001b[39;00m\n",
      "\u001b[32m/opt/anaconda3/lib/python3.13/site-packages/pandas/core/generic.py\u001b[39m in \u001b[36m?\u001b[39m\u001b[34m(self, dtype, copy)\u001b[39m\n\u001b[32m   2164\u001b[39m             )\n\u001b[32m   2165\u001b[39m         values = self._values\n\u001b[32m   2166\u001b[39m         \u001b[38;5;28;01mif\u001b[39;00m copy \u001b[38;5;28;01mis\u001b[39;00m \u001b[38;5;28;01mNone\u001b[39;00m:\n\u001b[32m   2167\u001b[39m             \u001b[38;5;66;03m# Note: branch avoids `copy=None` for NumPy 1.x support\u001b[39;00m\n\u001b[32m-> \u001b[39m\u001b[32m2168\u001b[39m             arr = np.asarray(values, dtype=dtype)\n\u001b[32m   2169\u001b[39m         \u001b[38;5;28;01melse\u001b[39;00m:\n\u001b[32m   2170\u001b[39m             arr = np.array(values, dtype=dtype, copy=copy)\n\u001b[32m   2171\u001b[39m \n",
      "\u001b[31mValueError\u001b[39m: could not convert string to float: 'blue-collar'"
     ]
    }
   ],
   "source": [
    "# initializing the PCA transformer and\n",
    "pca = PCA(n_components=2)\n",
    "\n",
    "# dimensionality reduction:\n",
    "X_train_pca = pca.fit_transform(X_train) # standardized training data\n",
    "X_test_pca = pca.transform(X_test) # standardized test data"
   ]
  },
  {
   "cell_type": "markdown",
   "id": "30a481f2",
   "metadata": {},
   "source": [
    "We assess the contributions of the original features to the principal components."
   ]
  },
  {
   "cell_type": "code",
   "execution_count": null,
   "id": "43ec6725",
   "metadata": {},
   "outputs": [
    {
     "data": {
      "image/png": "[encoded data removed]",
      "text/plain": [
       "<Figure size 1800x600 with 2 Axes>"
      ]
     },
     "metadata": {},
     "output_type": "display_data"
    },
    {
     "name": "stdout",
     "output_type": "stream",
     "text": [
      "Explained variance by PC1: 97.07%\n",
      "Explained variance by PC2: 2.03%\n",
      "Total explained variance (PC1 + PC2): 99.10%\n",
      "\n",
      "Top 5 features contributing to PC1:\n",
      "nr.employed      71.762951\n",
      "euribor3m         1.637582\n",
      "emp.var.rate      1.421738\n",
      "cons.conf.idx     0.534002\n",
      "campaign          0.398341\n",
      "dtype: float64\n",
      "\n",
      "Top 5 features contributing to PC2:\n",
      "age                10.329928\n",
      "education           0.834314\n",
      "cons.conf.idx       0.720535\n",
      "marital_single      0.187711\n",
      "marital_married     0.132741\n",
      "dtype: float64\n"
     ]
    }
   ],
   "source": [
    "sklearn_loadings = pca.components_.T * np.sqrt(pca.explained_variance_)\n",
    "\n",
    "fig, axes = plt.subplots(1, 2, figsize=(18, 6))\n",
    "\n",
    "# PC1 loadings\n",
    "axes[0].bar(range(sklearn_loadings.shape[0]), sklearn_loadings[:, 0], align='center')\n",
    "axes[0].set_ylabel('Loadings for PC 1')\n",
    "axes[0].set_xticks(range(sklearn_loadings.shape[0]))\n",
    "axes[0].set_xticklabels(X.columns, rotation=90)\n",
    "axes[0].set_title('Principal Component 1')\n",
    "\n",
    "# PC2 loadings\n",
    "axes[1].bar(range(sklearn_loadings.shape[0]), sklearn_loadings[:, 1], align='center')\n",
    "axes[1].set_ylabel('Loadings for PC 2')\n",
    "axes[1].set_xticks(range(sklearn_loadings.shape[0]))\n",
    "axes[1].set_xticklabels(X.columns, rotation=90)\n",
    "axes[1].set_title('Principal Component 2')\n",
    "\n",
    "plt.tight_layout()\n",
    "plt.show()\n",
    "\n",
    "# Summarize PCA results\n",
    "explained_variance = pca.explained_variance_ratio_\n",
    "print(f\"Explained variance by PC1: {explained_variance[0]:.2%}\")\n",
    "print(f\"Explained variance by PC2: {explained_variance[1]:.2%}\")\n",
    "print(f\"Total explained variance (PC1 + PC2): {explained_variance[:3].sum():.2%}\")\n",
    "\n",
    "# Show top contributing features for each principal component\n",
    "loadings = pd.Series(np.abs(sklearn_loadings[:, 0]), index=X.columns)\n",
    "print(\"\\nTop 5 features contributing to PC1:\")\n",
    "print(loadings.sort_values(ascending=False).head(5))\n",
    "\n",
    "loadings2 = pd.Series(np.abs(sklearn_loadings[:, 1]), index=X.columns)\n",
    "print(\"\\nTop 5 features contributing to PC2:\")\n",
    "print(loadings2.sort_values(ascending=False).head(5))\n"
   ]
  },
  {
   "cell_type": "markdown",
   "id": "361f97d6",
   "metadata": {},
   "source": [
    "In the figures above, we can see that `nr.employed` has the strongest positive loading on the first principal component (71.76), and is largely unaffected by other variables. This suggests that PC1 is largely influenced by the quarterly national indicator of number of employees. PC1 explains 97% of the variance in the data.\n",
    "\n",
    "For the second principal component, `age` had a high, positive loading (10.33) and `education` had a weaker negative loading (0.83) on PC2. PC2 only explains 2% of the variance in the data."
   ]
  },
  {
   "cell_type": "markdown",
   "id": "10ec486f",
   "metadata": {},
   "source": [
    "### Balance Data\n",
    "\n",
    "As noted from the previous distribution section, 36,548 of 41,188 (about 88.7%) of outcomes were a `no`. In order to account for this data imbalance, we have a few options, each with their own advantages and disadvantages:\n",
    "| Method | Pros | Cons |\n",
    "| :--- | :--- | :--- |\n",
    "| **Oversampling Minority Class** | - No data loss. <br> - Simple to implement. | - Can lead to overfitting.  |\n",
    "| **Undersampling Majority Class** | - Faster training. <br> - Can reduce noise. | - **Discards valuable data**. |\n",
    "| **Assign larger penalty to the minority class** | - Doesn't alter original data. <br> - Simple to implement. <br> - Directly targets misclassification. | - Model is still trained on imbalanced data. <br> - Requires hyperparameter tuning. |\n",
    "| **Generating synthetic samples** | - No information loss. <br> - Prevents overfitting better. | - Can introduce noise. |\n",
    "\n",
    "\n",
    "Given our specific dataset, it's not recommended to oversample the minority class to match the majority class or generating synthetic samples as we'll be introducing too much duplication and would likely overfit the model or introduce too much noise.\n",
    "\n",
    "Since assigning a larger penalty to the minority class is done during model development, we will sample our dataset to undersample the majority class in the dataframe below:"
   ]
  },
  {
   "cell_type": "code",
   "execution_count": null,
   "id": "6cd5c14e",
   "metadata": {},
   "outputs": [
    {
     "data": {
      "application/vnd.microsoft.datawrangler.viewer.v0+json": {
       "columns": [
        {
         "name": "y",
         "rawType": "bool",
         "type": "boolean"
        },
        {
         "name": "count",
         "rawType": "int64",
         "type": "integer"
        }
       ],
       "ref": "4a7f007e-24aa-4ff8-ba84-d0a501f541c5",
       "rows": [
        [
         "False",
         "4258"
        ],
        [
         "True",
         "4258"
        ]
       ],
       "shape": {
        "columns": 1,
        "rows": 2
       }
      },
      "text/plain": [
       "y\n",
       "False    4258\n",
       "True     4258\n",
       "Name: count, dtype: int64"
      ]
     },
     "execution_count": 11,
     "metadata": {},
     "output_type": "execute_result"
    }
   ],
   "source": [
    "# Creating our random sampler\n",
    "rus = RandomUnderSampler(random_state=2111994)\n",
    "\n",
    "# Defining an x and y for our data\n",
    "df_sampled = rus.fit_resample(df_dummies.drop('y', axis=1),df_dummies['y'])\n",
    "df_undersampled = {\n",
    "    'x' : df_sampled[0],\n",
    "    'y' : df_sampled[1]\n",
    "}\n",
    "\n",
    "# Show the balance of the data after the resampling\n",
    "df_undersampled['y'].value_counts()"
   ]
  },
  {
   "cell_type": "markdown",
   "id": "aed99cb7",
   "metadata": {},
   "source": [
    "With our dataset undersampled, we can see that we have rebalanced our data to align perfectly. We can now move onto the model training and experimentation section.\n",
    "\n",
    "> Noting that since tree-based models do not need standardization, we did not include this step in our EDA, even though we did perform it in our previous assignment."
   ]
  },
  {
   "cell_type": "markdown",
   "id": "d55ddc76",
   "metadata": {},
   "source": [
    "## Decision Trees"
   ]
  },
  {
   "cell_type": "markdown",
   "id": "076f67af",
   "metadata": {},
   "source": [
    "### Hypothesis 1: "
   ]
  },
  {
   "cell_type": "markdown",
   "id": "3795d69d",
   "metadata": {},
   "source": [
    "### Hypothesis 2: "
   ]
  },
  {
   "cell_type": "markdown",
   "id": "6c75ccfc",
   "metadata": {},
   "source": [
    "## Random Forest"
   ]
  },
  {
   "cell_type": "markdown",
   "id": "434ac2b8",
   "metadata": {},
   "source": [
    "### Hypothesis 1: "
   ]
  },
  {
   "cell_type": "markdown",
   "id": "8158a969",
   "metadata": {},
   "source": [
    "### Hypothesis 2: "
   ]
  },
  {
   "cell_type": "markdown",
   "id": "bedb3415",
   "metadata": {},
   "source": [
    "## Adaboost"
   ]
  },
  {
   "cell_type": "markdown",
   "id": "403e612d",
   "metadata": {},
   "source": [
    "### Hypothesis 1: "
   ]
  },
  {
   "cell_type": "markdown",
   "id": "16b1cd07",
   "metadata": {},
   "source": [
    "### Hypothesis 2: "
   ]
  }
 ],
 "metadata": {
  "kernelspec": {
   "display_name": "base",
   "language": "python",
   "name": "python3"
  },
  "language_info": {
   "codemirror_mode": {
    "name": "ipython",
    "version": 3
   },
   "file_extension": ".py",
   "mimetype": "text/x-python",
   "name": "python",
   "nbconvert_exporter": "python",
   "pygments_lexer": "ipython3",
   "version": "3.13.5"
  }
 },
 "nbformat": 4,
 "nbformat_minor": 5
}
